{
 "cells": [
  {
   "cell_type": "markdown",
   "metadata": {},
   "source": [
    "# Data pre-processing for Climate Spirals Visualisation"
   ]
  },
  {
   "cell_type": "code",
   "execution_count": 1,
   "metadata": {},
   "outputs": [],
   "source": [
    "%matplotlib inline\n",
    "import pandas as pd\n",
    "from pandas_datapackage_reader import read_datapackage\n",
    "import seaborn as sns\n",
    "import matplotlib.pyplot as plt\n",
    "from scipy import stats"
   ]
  },
  {
   "cell_type": "markdown",
   "metadata": {},
   "source": [
    "## CO<sub>2</sub> emissions from the Global Carbon Budget\n"
   ]
  },
  {
   "cell_type": "markdown",
   "metadata": {},
   "source": [
    "Historical CO<sub>2</sub> emissions are taken from the [Global Carbon Budget](https://www.globalcarbonproject.org/carbonbudget/18/data.htm), using the CSV version from https://github.com/openclimatedata/global-carbon-budget"
   ]
  },
  {
   "cell_type": "code",
   "execution_count": 2,
   "metadata": {},
   "outputs": [],
   "source": [
    "gcb = read_datapackage(\"https://github.com/openclimatedata/global-carbon-budget\", \"historical-budget\")"
   ]
  },
  {
   "cell_type": "code",
   "execution_count": 3,
   "metadata": {},
   "outputs": [
    {
     "data": {
      "text/html": [
       "<div>\n",
       "<style scoped>\n",
       "    .dataframe tbody tr th:only-of-type {\n",
       "        vertical-align: middle;\n",
       "    }\n",
       "\n",
       "    .dataframe tbody tr th {\n",
       "        vertical-align: top;\n",
       "    }\n",
       "\n",
       "    .dataframe thead th {\n",
       "        text-align: right;\n",
       "    }\n",
       "</style>\n",
       "<table border=\"1\" class=\"dataframe\">\n",
       "  <thead>\n",
       "    <tr style=\"text-align: right;\">\n",
       "      <th></th>\n",
       "      <th>Fossil-Fuel-Industry</th>\n",
       "      <th>Land-Use-Change</th>\n",
       "    </tr>\n",
       "    <tr>\n",
       "      <th>Year</th>\n",
       "      <th></th>\n",
       "      <th></th>\n",
       "    </tr>\n",
       "  </thead>\n",
       "  <tbody>\n",
       "    <tr>\n",
       "      <th>2014</th>\n",
       "      <td>35.18724</td>\n",
       "      <td>6.07194</td>\n",
       "    </tr>\n",
       "    <tr>\n",
       "      <th>2015</th>\n",
       "      <td>35.20188</td>\n",
       "      <td>6.23664</td>\n",
       "    </tr>\n",
       "    <tr>\n",
       "      <th>2016</th>\n",
       "      <td>35.34096</td>\n",
       "      <td>5.62542</td>\n",
       "    </tr>\n",
       "    <tr>\n",
       "      <th>2017</th>\n",
       "      <td>35.77284</td>\n",
       "      <td>5.37654</td>\n",
       "    </tr>\n",
       "    <tr>\n",
       "      <th>2018</th>\n",
       "      <td>36.53412</td>\n",
       "      <td>5.52294</td>\n",
       "    </tr>\n",
       "  </tbody>\n",
       "</table>\n",
       "</div>"
      ],
      "text/plain": [
       "      Fossil-Fuel-Industry  Land-Use-Change\n",
       "Year                                       \n",
       "2014              35.18724          6.07194\n",
       "2015              35.20188          6.23664\n",
       "2016              35.34096          5.62542\n",
       "2017              35.77284          5.37654\n",
       "2018              36.53412          5.52294"
      ]
     },
     "execution_count": 3,
     "metadata": {},
     "output_type": "execute_result"
    }
   ],
   "source": [
    "co2 = (gcb[[\"Fossil-Fuel-Industry\", \"Land-Use-Change\"]].loc[1850:] * 3.66 )\n",
    "co2.tail()"
   ]
  },
  {
   "cell_type": "code",
   "execution_count": 4,
   "metadata": {},
   "outputs": [],
   "source": [
    "co2[\"Total\"] = co2[[\"Fossil-Fuel-Industry\", \"Land-Use-Change\"]].sum(axis=1)"
   ]
  },
  {
   "cell_type": "code",
   "execution_count": 5,
   "metadata": {},
   "outputs": [
    {
     "data": {
      "text/html": [
       "<div>\n",
       "<style scoped>\n",
       "    .dataframe tbody tr th:only-of-type {\n",
       "        vertical-align: middle;\n",
       "    }\n",
       "\n",
       "    .dataframe tbody tr th {\n",
       "        vertical-align: top;\n",
       "    }\n",
       "\n",
       "    .dataframe thead th {\n",
       "        text-align: right;\n",
       "    }\n",
       "</style>\n",
       "<table border=\"1\" class=\"dataframe\">\n",
       "  <thead>\n",
       "    <tr style=\"text-align: right;\">\n",
       "      <th></th>\n",
       "      <th>Fossil-Fuel-Industry</th>\n",
       "      <th>Land-Use-Change</th>\n",
       "      <th>Total</th>\n",
       "    </tr>\n",
       "    <tr>\n",
       "      <th>Year</th>\n",
       "      <th></th>\n",
       "      <th></th>\n",
       "      <th></th>\n",
       "    </tr>\n",
       "  </thead>\n",
       "  <tbody>\n",
       "    <tr>\n",
       "      <th>2014</th>\n",
       "      <td>35.18724</td>\n",
       "      <td>6.07194</td>\n",
       "      <td>41.25918</td>\n",
       "    </tr>\n",
       "    <tr>\n",
       "      <th>2015</th>\n",
       "      <td>35.20188</td>\n",
       "      <td>6.23664</td>\n",
       "      <td>41.43852</td>\n",
       "    </tr>\n",
       "    <tr>\n",
       "      <th>2016</th>\n",
       "      <td>35.34096</td>\n",
       "      <td>5.62542</td>\n",
       "      <td>40.96638</td>\n",
       "    </tr>\n",
       "    <tr>\n",
       "      <th>2017</th>\n",
       "      <td>35.77284</td>\n",
       "      <td>5.37654</td>\n",
       "      <td>41.14938</td>\n",
       "    </tr>\n",
       "    <tr>\n",
       "      <th>2018</th>\n",
       "      <td>36.53412</td>\n",
       "      <td>5.52294</td>\n",
       "      <td>42.05706</td>\n",
       "    </tr>\n",
       "  </tbody>\n",
       "</table>\n",
       "</div>"
      ],
      "text/plain": [
       "      Fossil-Fuel-Industry  Land-Use-Change     Total\n",
       "Year                                                 \n",
       "2014              35.18724          6.07194  41.25918\n",
       "2015              35.20188          6.23664  41.43852\n",
       "2016              35.34096          5.62542  40.96638\n",
       "2017              35.77284          5.37654  41.14938\n",
       "2018              36.53412          5.52294  42.05706"
      ]
     },
     "execution_count": 5,
     "metadata": {},
     "output_type": "execute_result"
    }
   ],
   "source": [
    "co2.tail()"
   ]
  },
  {
   "cell_type": "code",
   "execution_count": 6,
   "metadata": {},
   "outputs": [
    {
     "data": {
      "text/plain": [
       "array([<matplotlib.axes._subplots.AxesSubplot object at 0x7fc6b3e19510>,\n",
       "       <matplotlib.axes._subplots.AxesSubplot object at 0x7fc6b1d41750>,\n",
       "       <matplotlib.axes._subplots.AxesSubplot object at 0x7fc6b1cfbbd0>],\n",
       "      dtype=object)"
      ]
     },
     "execution_count": 6,
     "metadata": {},
     "output_type": "execute_result"
    },
    {
     "data": {
      "image/png": "[encoded data removed]",
      "text/plain": [
       "<Figure size 864x576 with 3 Axes>"
      ]
     },
     "metadata": {
      "needs_background": "light"
     },
     "output_type": "display_data"
    }
   ],
   "source": [
    "co2.plot(subplots=True, sharey=True, figsize=(12,8))"
   ]
  },
  {
   "cell_type": "markdown",
   "metadata": {},
   "source": [
    "Export for visualisation"
   ]
  },
  {
   "cell_type": "code",
   "execution_count": 7,
   "metadata": {},
   "outputs": [],
   "source": [
    "export = pd.DataFrame({\"value\": co2[\"Total\"]})\n",
    "export.index.name = \"year\""
   ]
  },
  {
   "cell_type": "code",
   "execution_count": 8,
   "metadata": {},
   "outputs": [
    {
     "data": {
      "text/html": [
       "<div>\n",
       "<style scoped>\n",
       "    .dataframe tbody tr th:only-of-type {\n",
       "        vertical-align: middle;\n",
       "    }\n",
       "\n",
       "    .dataframe tbody tr th {\n",
       "        vertical-align: top;\n",
       "    }\n",
       "\n",
       "    .dataframe thead th {\n",
       "        text-align: right;\n",
       "    }\n",
       "</style>\n",
       "<table border=\"1\" class=\"dataframe\">\n",
       "  <thead>\n",
       "    <tr style=\"text-align: right;\">\n",
       "      <th></th>\n",
       "      <th>value</th>\n",
       "    </tr>\n",
       "    <tr>\n",
       "      <th>year</th>\n",
       "      <th></th>\n",
       "    </tr>\n",
       "  </thead>\n",
       "  <tbody>\n",
       "    <tr>\n",
       "      <th>2014</th>\n",
       "      <td>41.25918</td>\n",
       "    </tr>\n",
       "    <tr>\n",
       "      <th>2015</th>\n",
       "      <td>41.43852</td>\n",
       "    </tr>\n",
       "    <tr>\n",
       "      <th>2016</th>\n",
       "      <td>40.96638</td>\n",
       "    </tr>\n",
       "    <tr>\n",
       "      <th>2017</th>\n",
       "      <td>41.14938</td>\n",
       "    </tr>\n",
       "    <tr>\n",
       "      <th>2018</th>\n",
       "      <td>42.05706</td>\n",
       "    </tr>\n",
       "  </tbody>\n",
       "</table>\n",
       "</div>"
      ],
      "text/plain": [
       "         value\n",
       "year          \n",
       "2014  41.25918\n",
       "2015  41.43852\n",
       "2016  40.96638\n",
       "2017  41.14938\n",
       "2018  42.05706"
      ]
     },
     "execution_count": 8,
     "metadata": {},
     "output_type": "execute_result"
    }
   ],
   "source": [
    "export.reset_index().to_csv(\"../public/emissions.csv\", index=False)\n",
    "export.tail()"
   ]
  },
  {
   "cell_type": "markdown",
   "metadata": {
    "collapsed": true
   },
   "source": [
    "## CO<sub>2</sub> concentrations\n",
    "\n",
    "CO<sub>2</sub> concentrations are taken from the [CMIP6 concentration dataset](http://www.climate-energy-college.net/cmip6), version from 1 July 2016, combined with data from [ESRL/NOAA](https://www.esrl.noaa.gov/gmd/ccgg/trends/gl_data.html).\n"
   ]
  },
  {
   "cell_type": "code",
   "execution_count": 9,
   "metadata": {},
   "outputs": [
    {
     "data": {
      "text/html": [
       "<div>\n",
       "<style scoped>\n",
       "    .dataframe tbody tr th:only-of-type {\n",
       "        vertical-align: middle;\n",
       "    }\n",
       "\n",
       "    .dataframe tbody tr th {\n",
       "        vertical-align: top;\n",
       "    }\n",
       "\n",
       "    .dataframe thead th {\n",
       "        text-align: right;\n",
       "    }\n",
       "</style>\n",
       "<table border=\"1\" class=\"dataframe\">\n",
       "  <thead>\n",
       "    <tr style=\"text-align: right;\">\n",
       "      <th></th>\n",
       "      <th>decimal</th>\n",
       "      <th>average</th>\n",
       "      <th>trend</th>\n",
       "    </tr>\n",
       "    <tr>\n",
       "      <th>year_month</th>\n",
       "      <th></th>\n",
       "      <th></th>\n",
       "      <th></th>\n",
       "    </tr>\n",
       "  </thead>\n",
       "  <tbody>\n",
       "    <tr>\n",
       "      <th>1980-01-01</th>\n",
       "      <td>1980.042</td>\n",
       "      <td>338.45</td>\n",
       "      <td>337.83</td>\n",
       "    </tr>\n",
       "    <tr>\n",
       "      <th>1980-02-01</th>\n",
       "      <td>1980.125</td>\n",
       "      <td>339.15</td>\n",
       "      <td>338.10</td>\n",
       "    </tr>\n",
       "    <tr>\n",
       "      <th>1980-03-01</th>\n",
       "      <td>1980.208</td>\n",
       "      <td>339.48</td>\n",
       "      <td>338.13</td>\n",
       "    </tr>\n",
       "    <tr>\n",
       "      <th>1980-04-01</th>\n",
       "      <td>1980.292</td>\n",
       "      <td>339.87</td>\n",
       "      <td>338.25</td>\n",
       "    </tr>\n",
       "    <tr>\n",
       "      <th>1980-05-01</th>\n",
       "      <td>1980.375</td>\n",
       "      <td>340.30</td>\n",
       "      <td>338.78</td>\n",
       "    </tr>\n",
       "  </tbody>\n",
       "</table>\n",
       "</div>"
      ],
      "text/plain": [
       "             decimal  average   trend\n",
       "year_month                           \n",
       "1980-01-01  1980.042   338.45  337.83\n",
       "1980-02-01  1980.125   339.15  338.10\n",
       "1980-03-01  1980.208   339.48  338.13\n",
       "1980-04-01  1980.292   339.87  338.25\n",
       "1980-05-01  1980.375   340.30  338.78"
      ]
     },
     "execution_count": 9,
     "metadata": {},
     "output_type": "execute_result"
    }
   ],
   "source": [
    "noaa = pd.read_csv(\"co2_mm_gl.txt\", comment=\"#\", parse_dates=[[0, 1]], index_col=[0], delim_whitespace=True, header=None,\n",
    "                  names=[\"year\", \"month\", \"decimal\", \"average\", \"trend\"])\n",
    "\n",
    "noaa.head()"
   ]
  },
  {
   "cell_type": "code",
   "execution_count": 10,
   "metadata": {},
   "outputs": [
    {
     "data": {
      "text/html": [
       "<div>\n",
       "<style scoped>\n",
       "    .dataframe tbody tr th:only-of-type {\n",
       "        vertical-align: middle;\n",
       "    }\n",
       "\n",
       "    .dataframe tbody tr th {\n",
       "        vertical-align: top;\n",
       "    }\n",
       "\n",
       "    .dataframe thead th {\n",
       "        text-align: right;\n",
       "    }\n",
       "</style>\n",
       "<table border=\"1\" class=\"dataframe\">\n",
       "  <thead>\n",
       "    <tr style=\"text-align: right;\">\n",
       "      <th></th>\n",
       "      <th>year</th>\n",
       "      <th>month</th>\n",
       "      <th>data_mean_global</th>\n",
       "      <th>data_mean_nh</th>\n",
       "      <th>data_mean_sh</th>\n",
       "    </tr>\n",
       "  </thead>\n",
       "  <tbody>\n",
       "    <tr>\n",
       "      <th>1750-01-01</th>\n",
       "      <td>1750</td>\n",
       "      <td>1</td>\n",
       "      <td>277.813529</td>\n",
       "      <td>278.492749</td>\n",
       "      <td>277.134309</td>\n",
       "    </tr>\n",
       "    <tr>\n",
       "      <th>1750-02-01</th>\n",
       "      <td>1750</td>\n",
       "      <td>2</td>\n",
       "      <td>278.196558</td>\n",
       "      <td>279.148898</td>\n",
       "      <td>277.244218</td>\n",
       "    </tr>\n",
       "    <tr>\n",
       "      <th>1750-03-01</th>\n",
       "      <td>1750</td>\n",
       "      <td>3</td>\n",
       "      <td>278.538475</td>\n",
       "      <td>279.791418</td>\n",
       "      <td>277.285531</td>\n",
       "    </tr>\n",
       "    <tr>\n",
       "      <th>1750-04-01</th>\n",
       "      <td>1750</td>\n",
       "      <td>4</td>\n",
       "      <td>278.779124</td>\n",
       "      <td>280.326118</td>\n",
       "      <td>277.232131</td>\n",
       "    </tr>\n",
       "    <tr>\n",
       "      <th>1750-05-01</th>\n",
       "      <td>1750</td>\n",
       "      <td>5</td>\n",
       "      <td>278.723560</td>\n",
       "      <td>280.230610</td>\n",
       "      <td>277.216510</td>\n",
       "    </tr>\n",
       "  </tbody>\n",
       "</table>\n",
       "</div>"
      ],
      "text/plain": [
       "            year  month  data_mean_global  data_mean_nh  data_mean_sh\n",
       "1750-01-01  1750      1        277.813529    278.492749    277.134309\n",
       "1750-02-01  1750      2        278.196558    279.148898    277.244218\n",
       "1750-03-01  1750      3        278.538475    279.791418    277.285531\n",
       "1750-04-01  1750      4        278.779124    280.326118    277.232131\n",
       "1750-05-01  1750      5        278.723560    280.230610    277.216510"
      ]
     },
     "execution_count": 10,
     "metadata": {},
     "output_type": "execute_result"
    }
   ],
   "source": [
    "cmip6 = pd.read_csv(\n",
    "    \"mole_fraction_of_carbon_dioxide_in_air_input4MIPs_GHGConcentrations_CMIP_UoM-CMIP-1-1-0_gr3-GMNHSH_000001-201412.csv\",\n",
    ")\n",
    "cmip6.index = (cmip6.year.astype(str).apply(lambda x: x.zfill(4)) + \n",
    "    \"-\" + \n",
    "   cmip6.month.astype(str).apply(lambda x: x.zfill(2)) +\n",
    "    \"-01\"\n",
    ")\n",
    "cmip6 = cmip6.iloc[21000:]\n",
    "cmip6.index = pd.to_datetime(cmip6.index)\n",
    "cmip6 = cmip6.drop(['datenum', 'datetime', 'day'], axis=1)\n",
    "cmip6.head()"
   ]
  },
  {
   "cell_type": "code",
   "execution_count": 11,
   "metadata": {},
   "outputs": [
    {
     "data": {
      "text/plain": [
       "<matplotlib.axes._subplots.AxesSubplot at 0x7fc6b13d0450>"
      ]
     },
     "execution_count": 11,
     "metadata": {},
     "output_type": "execute_result"
    },
    {
     "data": {
      "image/png": "[encoded data removed]",
      "text/plain": [
       "<Figure size 1152x720 with 1 Axes>"
      ]
     },
     "metadata": {
      "needs_background": "light"
     },
     "output_type": "display_data"
    }
   ],
   "source": [
    "fig, ax = plt.subplots(1,1, figsize=(16,10))\n",
    "cmip6.loc[\"1850\":][\"data_mean_global\"].plot(ax=ax)\n",
    "noaa[\"average\"].plot(ax=ax)"
   ]
  },
  {
   "cell_type": "code",
   "execution_count": 12,
   "metadata": {},
   "outputs": [],
   "source": [
    "cmip6.loc[\"1850\":].rename(columns={\"data_mean_nh\": \"value\"}).to_csv(\"../public/concentrations_nh.csv\", index=False)\n",
    "cmip6.loc[\"1850\":].rename(columns={\"data_mean_sh\": \"value\"}).to_csv(\"../public/concentrations_sh.csv\", index=False)\n",
    "\n",
    "combined = pd.concat([cmip6[\"data_mean_global\"].loc[\"1850\":\"1979-12\"], noaa[\"average\"]])\n",
    "combined = pd.DataFrame({\"value\": combined})\n",
    "combined[\"year\"] = combined.index.year\n",
    "combined[\"month\"] = combined.index.month\n",
    "combined.index.name = \"date\"\n",
    "combined[\"day\"] = 15\n",
    "combined = combined[[\"year\", \"month\", \"value\"]]\n",
    "combined.to_csv(\"../public/concentrations.csv\", index=False)\n"
   ]
  },
  {
   "cell_type": "code",
   "execution_count": 13,
   "metadata": {},
   "outputs": [
    {
     "data": {
      "text/html": [
       "<div>\n",
       "<style scoped>\n",
       "    .dataframe tbody tr th:only-of-type {\n",
       "        vertical-align: middle;\n",
       "    }\n",
       "\n",
       "    .dataframe tbody tr th {\n",
       "        vertical-align: top;\n",
       "    }\n",
       "\n",
       "    .dataframe thead th {\n",
       "        text-align: right;\n",
       "    }\n",
       "</style>\n",
       "<table border=\"1\" class=\"dataframe\">\n",
       "  <thead>\n",
       "    <tr style=\"text-align: right;\">\n",
       "      <th></th>\n",
       "      <th>year</th>\n",
       "      <th>month</th>\n",
       "      <th>value</th>\n",
       "    </tr>\n",
       "    <tr>\n",
       "      <th>date</th>\n",
       "      <th></th>\n",
       "      <th></th>\n",
       "      <th></th>\n",
       "    </tr>\n",
       "  </thead>\n",
       "  <tbody>\n",
       "    <tr>\n",
       "      <th>2019-07-01</th>\n",
       "      <td>2019</td>\n",
       "      <td>7</td>\n",
       "      <td>408.70</td>\n",
       "    </tr>\n",
       "    <tr>\n",
       "      <th>2019-08-01</th>\n",
       "      <td>2019</td>\n",
       "      <td>8</td>\n",
       "      <td>407.47</td>\n",
       "    </tr>\n",
       "    <tr>\n",
       "      <th>2019-09-01</th>\n",
       "      <td>2019</td>\n",
       "      <td>9</td>\n",
       "      <td>407.70</td>\n",
       "    </tr>\n",
       "    <tr>\n",
       "      <th>2019-10-01</th>\n",
       "      <td>2019</td>\n",
       "      <td>10</td>\n",
       "      <td>409.24</td>\n",
       "    </tr>\n",
       "    <tr>\n",
       "      <th>2019-11-01</th>\n",
       "      <td>2019</td>\n",
       "      <td>11</td>\n",
       "      <td>410.88</td>\n",
       "    </tr>\n",
       "  </tbody>\n",
       "</table>\n",
       "</div>"
      ],
      "text/plain": [
       "            year  month   value\n",
       "date                           \n",
       "2019-07-01  2019      7  408.70\n",
       "2019-08-01  2019      8  407.47\n",
       "2019-09-01  2019      9  407.70\n",
       "2019-10-01  2019     10  409.24\n",
       "2019-11-01  2019     11  410.88"
      ]
     },
     "execution_count": 13,
     "metadata": {},
     "output_type": "execute_result"
    }
   ],
   "source": [
    "combined.tail()"
   ]
  },
  {
   "cell_type": "markdown",
   "metadata": {},
   "source": [
    "## Global Temperatures\n",
    "\n",
    "Global temperature data is taken from the HadCRUT4 near surface temperature dataset.\n",
    "\n",
    "http://www.metoffice.gov.uk/hadobs/hadcrut4/data/current/download.html"
   ]
  },
  {
   "cell_type": "code",
   "execution_count": 14,
   "metadata": {},
   "outputs": [
    {
     "data": {
      "text/plain": [
       "<matplotlib.legend.Legend at 0x7fc6b15aa0d0>"
      ]
     },
     "execution_count": 14,
     "metadata": {},
     "output_type": "execute_result"
    },
    {
     "data": {
      "image/png": "[encoded data removed]",
      "text/plain": [
       "<Figure size 432x288 with 1 Axes>"
      ]
     },
     "metadata": {
      "needs_background": "light"
     },
     "output_type": "display_data"
    }
   ],
   "source": [
    "hadcrut = pd.read_csv(\n",
    "    \"HadCRUT.4.6.0.0.monthly_ns_avg.txt\",\n",
    "    delim_whitespace=True,\n",
    "    usecols=[0, 1],\n",
    "    header=None\n",
    ")\n",
    "hadcrut['year'] = hadcrut.iloc[:, 0].apply(lambda x: x.split(\"/\")[0]).astype(int)\n",
    "hadcrut['month'] = hadcrut.iloc[:, 0].apply(lambda x: x.split(\"/\")[1]).astype(int)\n",
    "\n",
    "hadcrut = hadcrut.rename(columns={1: \"value\"})\n",
    "hadcrut = hadcrut.iloc[:, 1:]\n",
    "\n",
    "\n",
    "hadcrut = hadcrut.set_index(['year', 'month'])\n",
    "\n",
    "hadcrut -= hadcrut.loc[1850:1900].mean()\n",
    "hadcrut.plot()\n",
    "hadcrut = hadcrut.reset_index()\n",
    "plt.xlabel(\"Time\")\n",
    "plt.ylabel(u\"Temperature anomalies (°C) (1850-1990 mean)\")\n",
    "plt.legend(\"\")"
   ]
  },
  {
   "cell_type": "code",
   "execution_count": 15,
   "metadata": {},
   "outputs": [
    {
     "data": {
      "text/html": [
       "<div>\n",
       "<style scoped>\n",
       "    .dataframe tbody tr th:only-of-type {\n",
       "        vertical-align: middle;\n",
       "    }\n",
       "\n",
       "    .dataframe tbody tr th {\n",
       "        vertical-align: top;\n",
       "    }\n",
       "\n",
       "    .dataframe thead th {\n",
       "        text-align: right;\n",
       "    }\n",
       "</style>\n",
       "<table border=\"1\" class=\"dataframe\">\n",
       "  <thead>\n",
       "    <tr style=\"text-align: right;\">\n",
       "      <th></th>\n",
       "      <th>year</th>\n",
       "      <th>month</th>\n",
       "      <th>value</th>\n",
       "    </tr>\n",
       "  </thead>\n",
       "  <tbody>\n",
       "    <tr>\n",
       "      <th>2035</th>\n",
       "      <td>2019</td>\n",
       "      <td>8</td>\n",
       "      <td>1.032441</td>\n",
       "    </tr>\n",
       "    <tr>\n",
       "      <th>2036</th>\n",
       "      <td>2019</td>\n",
       "      <td>9</td>\n",
       "      <td>1.026441</td>\n",
       "    </tr>\n",
       "    <tr>\n",
       "      <th>2037</th>\n",
       "      <td>2019</td>\n",
       "      <td>10</td>\n",
       "      <td>1.065441</td>\n",
       "    </tr>\n",
       "    <tr>\n",
       "      <th>2038</th>\n",
       "      <td>2019</td>\n",
       "      <td>11</td>\n",
       "      <td>1.006441</td>\n",
       "    </tr>\n",
       "    <tr>\n",
       "      <th>2039</th>\n",
       "      <td>2019</td>\n",
       "      <td>12</td>\n",
       "      <td>1.192441</td>\n",
       "    </tr>\n",
       "  </tbody>\n",
       "</table>\n",
       "</div>"
      ],
      "text/plain": [
       "      year  month     value\n",
       "2035  2019      8  1.032441\n",
       "2036  2019      9  1.026441\n",
       "2037  2019     10  1.065441\n",
       "2038  2019     11  1.006441\n",
       "2039  2019     12  1.192441"
      ]
     },
     "execution_count": 15,
     "metadata": {},
     "output_type": "execute_result"
    }
   ],
   "source": [
    "hadcrut.tail()"
   ]
  },
  {
   "cell_type": "code",
   "execution_count": 16,
   "metadata": {},
   "outputs": [],
   "source": [
    "hadcrut.to_csv(\"../public/temperatures.csv\", index=False)"
   ]
  },
  {
   "cell_type": "code",
   "execution_count": null,
   "metadata": {},
   "outputs": [],
   "source": []
  }
 ],
 "metadata": {
  "kernelspec": {
   "display_name": "Python 3",
   "language": "python",
   "name": "python3"
  },
  "language_info": {
   "codemirror_mode": {
    "name": "ipython",
    "version": 3
   },
   "file_extension": ".py",
   "mimetype": "text/x-python",
   "name": "python",
   "nbconvert_exporter": "python",
   "pygments_lexer": "ipython3",
   "version": "3.7.5"
  }
 },
 "nbformat": 4,
 "nbformat_minor": 1
}
